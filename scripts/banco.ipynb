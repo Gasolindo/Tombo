{
 "cells": [
  {
   "cell_type": "code",
   "execution_count": 1,
   "metadata": {},
   "outputs": [],
   "source": [
    "import sqlite3"
   ]
  },
  {
   "cell_type": "code",
   "execution_count": 2,
   "metadata": {},
   "outputs": [],
   "source": [
    "con=sqlite3.connect('tombo.db')"
   ]
  },
  {
   "cell_type": "code",
   "execution_count": 3,
   "metadata": {},
   "outputs": [],
   "source": [
    "cursor=con.cursor()"
   ]
  },
  {
   "cell_type": "code",
   "execution_count": 4,
   "metadata": {},
   "outputs": [
    {
     "data": {
      "text/plain": [
       "<sqlite3.Cursor at 0x7effee1813c0>"
      ]
     },
     "execution_count": 4,
     "metadata": {},
     "output_type": "execute_result"
    }
   ],
   "source": [
    "cursor.execute('CREATE TABLE user(nome TEXT,matricula INTEGER NOT NULL UNIQUE ,cpf INTEGER VARCHAR(11),celular INTEGER VARCHAR(11),email TEXT UNIQUE,id INTEGER PRIMARY KEY AUTOINCREMENT,password TEXT,status_ativo BOOLEAN DEFAULT 1 NOT NULL,nivel DEFAULT view NOT NULL)')"
   ]
  },
  {
   "cell_type": "code",
   "execution_count": 5,
   "metadata": {},
   "outputs": [
    {
     "data": {
      "text/plain": [
       "<sqlite3.Cursor at 0x7effee1813c0>"
      ]
     },
     "execution_count": 5,
     "metadata": {},
     "output_type": "execute_result"
    }
   ],
   "source": [
    "cursor.execute('CREATE TABLE materials(objeto TEXT NOT NULL,id INTEGER PRIMARY KEY AUTOINCREMENT,status_objeto BOOLEAN DEFAULT 1 NOT NULL)')"
   ]
  },
  {
   "cell_type": "code",
   "execution_count": 6,
   "metadata": {},
   "outputs": [
    {
     "data": {
      "text/plain": [
       "<sqlite3.Cursor at 0x7effee1813c0>"
      ]
     },
     "execution_count": 6,
     "metadata": {},
     "output_type": "execute_result"
    }
   ],
   "source": [
    "cursor.execute('CREATE TABLE tombos(id_materials INTEGER,tombo INTEGER NOT NULL UNIQUE,id INTEGER PRIMARY KEY AUTOINCREMENT, id_user INTEGER,FOREIGN KEY (id) REFERENCES user(id_user),FOREIGN KEY (id) REFERENCES materials(id_materials))')"
   ]
  },
  {
   "cell_type": "code",
   "execution_count": 7,
   "metadata": {},
   "outputs": [],
   "source": [
    "# cursor.execute ('SELECT * FROM material m INNER JOIN user u ON m.id_user=u.id ')"
   ]
  },
  {
   "cell_type": "code",
   "execution_count": 8,
   "metadata": {},
   "outputs": [],
   "source": [
    "# cursor.execute('CREATE TABLE user_material(id INTEGER PRIMARY KEY AUTOINCREMENT,id_user INTEGER , id_tombo INTEGER ,FOREIGN KEY (id) REFERENCES user (id_user),FOREIGN KEY (id) REFERENCES material (id_tombo)) ')"
   ]
  }
 ],
 "metadata": {
  "kernelspec": {
   "display_name": ".venv",
   "language": "python",
   "name": "python3"
  },
  "language_info": {
   "codemirror_mode": {
    "name": "ipython",
    "version": 3
   },
   "file_extension": ".py",
   "mimetype": "text/x-python",
   "name": "python",
   "nbconvert_exporter": "python",
   "pygments_lexer": "ipython3",
   "version": "3.11.4"
  }
 },
 "nbformat": 4,
 "nbformat_minor": 2
}
